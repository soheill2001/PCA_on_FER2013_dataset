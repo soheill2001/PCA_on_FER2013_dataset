{
  "cells": [
    {
      "cell_type": "markdown",
      "source": [
        ""
      ],
      "metadata": {
        "id": "0YWMaMuU0O20"
      }
    },
    {
      "cell_type": "code",
      "execution_count": null,
      "metadata": {
        "id": "UmVUhRKrq65z"
      },
      "outputs": [],
      "source": [
        "!mkdir ../data\n",
        "!wget -O ../data/fer2013.csv https://www.dropbox.com/s/zi48lkarsg4kbry/fer2013.csv\\?dl\\=1"
      ]
    },
    {
      "cell_type": "code",
      "source": [
        "import pandas as pd\n",
        "import numpy as np\n",
        "\n",
        "DATA_PATH = \"../data/fer2013.csv\""
      ],
      "metadata": {
        "id": "y7aBKYtmAHeQ"
      },
      "execution_count": null,
      "outputs": []
    },
    {
      "cell_type": "code",
      "source": [
        "def Read_Data(DATA_PATH):\n",
        "  dataframe = pd.read_csv(DATA_PATH)\n",
        "  data = np.array(list(map(str.split, dataframe.pixels)), np.float32)\n",
        "  Mean = np.mean(data)\n",
        "  train_data = dataframe.loc[dataframe['Usage'] == 'Training']\n",
        "  test_data = dataframe.loc[dataframe['Usage'] != 'Training']\n",
        "  train_data = np.array(list(map(str.split, train_data.pixels)), np.float32)\n",
        "  test_data = np.array(list(map(str.split, test_data.pixels)), np.float32)\n",
        "  train_data = train_data - Mean\n",
        "  test_data = test_data - Mean\n",
        "  data = data - Mean\n",
        "  return train_data, test_data, data, dataframe"
      ],
      "metadata": {
        "id": "MgnOw0IN1Q70"
      },
      "execution_count": null,
      "outputs": []
    },
    {
      "cell_type": "code",
      "source": [
        "def Find_Eigenvalue(data):\n",
        "    covariance = np.cov(data, rowvar=False)\n",
        "    eigenvalues, eigenvectors = np.linalg.eig(covariance)\n",
        "    indices = np.argsort(eigenvalues)[::-1]\n",
        "    eigenvalues = np.sort(eigenvalues)[::-1]\n",
        "    eigenvectors = eigenvectors[:,indices]\n",
        "    return eigenvalues, eigenvectors"
      ],
      "metadata": {
        "id": "bxR6rV5u3zJz"
      },
      "execution_count": null,
      "outputs": []
    },
    {
      "cell_type": "code",
      "source": [
        "def Emotions(dataframe):\n",
        "  train_emotion = dataframe.loc[dataframe['Usage'] == 'Training']\n",
        "  test_emotion = dataframe.loc[dataframe['Usage'] != 'Training']\n",
        "  train_emotion = np.array(list(train_emotion.emotion))\n",
        "  test_emotion = np.array(list(test_emotion.emotion))\n",
        "  return train_emotion, test_emotion"
      ],
      "metadata": {
        "id": "8ifoMz5k8Hip"
      },
      "execution_count": null,
      "outputs": []
    },
    {
      "cell_type": "code",
      "source": [
        "train, test, all_data, dataframe = Read_Data(DATA_PATH)"
      ],
      "metadata": {
        "id": "-SV7r4Xy04zq"
      },
      "execution_count": null,
      "outputs": []
    },
    {
      "cell_type": "code",
      "source": [
        "train_emotion, test_emotion = Emotions(dataframe)"
      ],
      "metadata": {
        "id": "XCgj0os09GQF"
      },
      "execution_count": null,
      "outputs": []
    },
    {
      "cell_type": "markdown",
      "source": [
        "A:"
      ],
      "metadata": {
        "id": "nmOJW3cm97bS"
      }
    },
    {
      "cell_type": "code",
      "source": [
        "eigenvalues, eigenvectors = Find_Eigenvalue(all_data)\n",
        "print(eigenvalues)"
      ],
      "metadata": {
        "colab": {
          "base_uri": "https://localhost:8080/"
        },
        "id": "G15-XgU87NQT",
        "outputId": "d7c9d9ef-bf31-43d7-831a-5365992ed3cb"
      },
      "execution_count": null,
      "outputs": [
        {
          "output_type": "stream",
          "name": "stdout",
          "text": [
            "[2.66512420e+06 9.03136454e+05 8.68414944e+05 ... 4.29082479e+00\n",
            " 4.17553368e+00 3.85456269e+00]\n"
          ]
        }
      ]
    },
    {
      "cell_type": "markdown",
      "source": [
        "B:"
      ],
      "metadata": {
        "id": "gatqWVJi96qf"
      }
    },
    {
      "cell_type": "code",
      "source": [
        "print(eigenvalues[:4])\n",
        "print(eigenvectors[:,:4])"
      ],
      "metadata": {
        "colab": {
          "base_uri": "https://localhost:8080/"
        },
        "id": "MwPRaLtF9-Lu",
        "outputId": "35c84bfd-380e-4e79-b1fd-cda0404981d0"
      },
      "execution_count": null,
      "outputs": [
        {
          "output_type": "stream",
          "name": "stdout",
          "text": [
            "[2665124.19518341  903136.45445253  868414.94364041  507231.37879122]\n",
            "[[-0.02427714  0.03270253  0.00333084  0.01637742]\n",
            " [-0.02406147  0.03383058  0.00387249  0.02034239]\n",
            " [-0.02399324  0.03437297  0.00460718  0.02400246]\n",
            " ...\n",
            " [-0.02333263  0.01116316 -0.0280134  -0.03070988]\n",
            " [-0.02339523  0.01205157 -0.02749968 -0.02989842]\n",
            " [-0.02336868  0.01238001 -0.02696041 -0.02890207]]\n"
          ]
        }
      ]
    },
    {
      "cell_type": "markdown",
      "source": [
        "C:"
      ],
      "metadata": {
        "id": "EkiacO6t-xLO"
      }
    },
    {
      "cell_type": "code",
      "source": [
        "from sklearn.neighbors import KNeighborsClassifier\n",
        "from sklearn.metrics import accuracy_score\n",
        "from sklearn.metrics import confusion_matrix"
      ],
      "metadata": {
        "id": "3FAla7Iv-x2a"
      },
      "execution_count": null,
      "outputs": []
    },
    {
      "cell_type": "code",
      "source": [
        "norm_train = np.linalg.norm(train)\n",
        "norm_test = np.linalg.norm(test)\n",
        "train = train / norm_train\n",
        "test = test / norm_test"
      ],
      "metadata": {
        "id": "srADBIkjBL3G"
      },
      "execution_count": null,
      "outputs": []
    },
    {
      "cell_type": "code",
      "source": [
        "def KNN(train, test, train_emotion, test_emotion, N, type):\n",
        "  classifier = KNeighborsClassifier(n_neighbors = N)\n",
        "  classifier.fit(train, train_emotion)\n",
        "  emotion_pred = classifier.predict(test)\n",
        "  print(\"N ={} and data is {}\".format(N, type))\n",
        "  print(\"confusion matrix: \", confusion_matrix(test_emotion, emotion_pred))\n",
        "  print(\"accuracy: \", accuracy_score(test_emotion, emotion_pred))"
      ],
      "metadata": {
        "id": "eoKAFeW9B6TN"
      },
      "execution_count": 72,
      "outputs": []
    },
    {
      "cell_type": "code",
      "source": [
        "def Reduce(data, eigenvectors, dataframe, i):\n",
        "  data = np.dot(eigenvectors[:,:i].transpose(), (data - np.mean(data)).transpose()).transpose()\n",
        "  data = pd.DataFrame(data)\n",
        "  train_data = data.loc[dataframe['Usage'] == 'Training']\n",
        "  test_data = data.loc[dataframe['Usage'] != 'Training']\n",
        "  return train_data, test_data"
      ],
      "metadata": {
        "id": "TlzUlCI_CCHU"
      },
      "execution_count": 74,
      "outputs": []
    },
    {
      "cell_type": "code",
      "source": [
        "train_reduced, test_reduced = Reduce(all_data, eigenvectors, dataframe, 4)"
      ],
      "metadata": {
        "id": "g3LMufD0Dted"
      },
      "execution_count": null,
      "outputs": []
    },
    {
      "cell_type": "code",
      "source": [
        "for i in range(1, 3):\n",
        "  KNN(train, test, train_emotion, test_emotion, i, \"initial\")\n",
        "for i in range(1, 3):\n",
        "  KNN(train_reduced, test_reduced, train_emotion, test_emotion, i, \"reduced\")"
      ],
      "metadata": {
        "colab": {
          "base_uri": "https://localhost:8080/"
        },
        "id": "rkpKZQtIHIO1",
        "outputId": "b96fb7d1-e1cb-40bd-b4ff-63012679413c"
      },
      "execution_count": 73,
      "outputs": [
        {
          "output_type": "stream",
          "name": "stdout",
          "text": [
            "N =1 and data is initial\n",
            "confusion matrix:  [[329  13 111 149 135  58 163]\n",
            " [ 12  62   5  10   6   4  12]\n",
            " [122   7 389 137 127  96 146]\n",
            " [204  23 142 708 244 111 342]\n",
            " [180  17 135 221 379  64 251]\n",
            " [ 56   3  67  85  37 510  73]\n",
            " [141   9 105 248 206  81 443]]\n",
            "accuracy:  0.3928670938980217\n",
            "N =2 and data is initial\n",
            "confusion matrix:  [[413  23 145 181 109  45  42]\n",
            " [ 21  63   9   7   4   3   4]\n",
            " [205  19 419 164 103  61  53]\n",
            " [393  36 232 768 184  78  83]\n",
            " [324  31 217 299 263  52  61]\n",
            " [133   8 125 142  51 349  23]\n",
            " [246  22 180 316 212  75 182]]\n",
            "accuracy:  0.34229590415157424\n",
            "N =1 and data is reduced\n",
            "confusion matrix:  [[239   5 126 214 155  73 146]\n",
            " [ 12  46  12  16  10   5  10]\n",
            " [106  13 303 205 143 107 147]\n",
            " [215  28 210 557 272 164 328]\n",
            " [171  10 159 320 325  88 174]\n",
            " [ 71   8  77 129  76 390  80]\n",
            " [166   8 124 305 202 118 310]]\n",
            "accuracy:  0.30231262190025077\n",
            "N =2 and data is reduced\n",
            "confusion matrix:  [[354  20 187 215 112  38  32]\n",
            " [ 21  46  17  14   7   5   1]\n",
            " [215  20 372 215 104  67  31]\n",
            " [409  53 345 611 188  96  72]\n",
            " [331  18 269 342 212  44  31]\n",
            " [150  15 154 204  87 209  12]\n",
            " [270  23 217 385 175  74  89]]\n",
            "accuracy:  0.2637224853719699\n"
          ]
        }
      ]
    },
    {
      "cell_type": "markdown",
      "source": [
        "as we can see by using initial data we have better accuracy but with reduced data, the accuracy will be reduced too."
      ],
      "metadata": {
        "id": "x_nl2cR_LT7G"
      }
    },
    {
      "cell_type": "markdown",
      "source": [
        "D:"
      ],
      "metadata": {
        "id": "a3js2AS2IcXE"
      }
    },
    {
      "cell_type": "code",
      "source": [
        "def KNN_(train, test, train_emotion, test_emotion, N):\n",
        "  classifier = KNeighborsClassifier(n_neighbors = N)\n",
        "  classifier.fit(train, train_emotion)\n",
        "  emotion_pred = classifier.predict(test)\n",
        "  return accuracy_score(test_emotion, emotion_pred)"
      ],
      "metadata": {
        "id": "N914V63cIamG"
      },
      "execution_count": 75,
      "outputs": []
    },
    {
      "cell_type": "code",
      "source": [
        "accuracy = []\n",
        "for i in range(1, 51):\n",
        "  train_reduced, test_reduced = Reduce(all_data, eigenvectors, dataframe, i)\n",
        "  accuracy.append(KNN_(train_reduced, test_reduced, train_emotion, test_emotion, 1))\n",
        "import matplotlib.pyplot as plt\n",
        "x = np.arange(1, 51)\n",
        "plt.plot(x, accuracy)\n",
        "plt.show()"
      ],
      "metadata": {
        "colab": {
          "base_uri": "https://localhost:8080/",
          "height": 268
        },
        "id": "79WnvKXoI1dd",
        "outputId": "6932d81d-a821-480c-f934-0cef30e8e7ab"
      },
      "execution_count": 76,
      "outputs": [
        {
          "output_type": "display_data",
          "data": {
            "text/plain": [
              "<Figure size 432x288 with 1 Axes>"
            ],
            "image/png": "[encoded data removed]"
          },
          "metadata": {
            "needs_background": "light"
          }
        }
      ]
    },
    {
      "cell_type": "markdown",
      "source": [
        "as we can see from the graph above, by increasing the number of components, the accuracy will be increased too. but we can see that it has a limited accuracy."
      ],
      "metadata": {
        "id": "LsjH8WCML0ep"
      }
    }
  ],
  "metadata": {
    "colab": {
      "name": "Q6.ipynb",
      "provenance": [],
      "collapsed_sections": [],
      "toc_visible": true
    },
    "kernelspec": {
      "display_name": "Python 3",
      "name": "python3"
    },
    "language_info": {
      "name": "python"
    }
  },
  "nbformat": 4,
  "nbformat_minor": 0
}
